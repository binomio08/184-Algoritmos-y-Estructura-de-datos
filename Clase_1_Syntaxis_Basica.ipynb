{
 "cells": [
  {
   "attachments": {},
   "cell_type": "markdown",
   "metadata": {
    "slideshow": {
     "slide_type": "slide"
    }
   },
   "source": [
    "  # Algoritmos y Estructuras de Datos. \n",
    "\n",
    "## - Clase 1 - Parte 1 - Syntaxis Basica de Python -"
   ]
  },
  {
   "attachments": {},
   "cell_type": "markdown",
   "metadata": {
    "slideshow": {
     "slide_type": "slide"
    }
   },
   "source": [
    "### Cuerpo Docente \n",
    "- **Profesor:** Dr. Diego Agustín Ambrossio.\n",
    "- **Jefe de Trabajos Practicos**: Anl. Sis. Angel Leonardo Bianco.\n",
    "\n",
    "**Día/Horario :** Martes 18h00 - 22h00. \n",
    "\n",
    "\n",
    "Material adaptado de la cátedra \"Introduction to Programming\" de la Université du Luxembourg. \n",
    "\n",
    "Gracias a mis estimados colegas Dr. Giovanni Casini (ISTI-CNR) y Dr. Xavier Parent (TU Wien)!! \n"
   ]
  },
  {
   "attachments": {},
   "cell_type": "markdown",
   "metadata": {},
   "source": [
    "### Resumen:\n",
    "\n",
    "Estudiaremos distintas estructuras de datos y cómo programar algoritmos para hacer uso eficientes de ellas. Utilizando el lenguaje de programación Python, haremos foco en la programación procedural, introduciendo algunos conceptos de la progrmación Orientada a Objetos. Finalmente, cómo optimizar algunos typos de algoritmos particulares.  \n",
    "\n",
    "Algunos de los temas a estudiar: \n",
    "\n",
    "- El Lenguaje de Programación Python.\n",
    "- Estructuras de Datos.\n",
    "- Recursividad.\n",
    "- Objetos en Python.\n",
    "- Algoritmos de Ordenamiento y Busqueda.\n",
    "- Archivos.\n",
    "- Complejidad Computacional. \n",
    "- Nociones de Computabilidad, Verificación y Validación.  \n",
    "\n",
    "El material de la cáterda y todos los recursos necesarios estarán disponibles en el Campus Virtual. "
   ]
  },
  {
   "attachments": {},
   "cell_type": "markdown",
   "metadata": {},
   "source": [
    "## Evaluación\n",
    "### General\n",
    "\n",
    "-  2 Examenes Parciales\n",
    "-  Ejercicios de entrega obligatoria. \n",
    "-  Trabajos Grupales. \n",
    "\n",
    "### Aprobación:\n",
    " \n",
    "- Calificación de 4 (cuatro) o más, en los examenes parciales.\n",
    "\n",
    "### Promoción \n",
    "\n",
    "- Calificación de 6 o más en cada examen parcial **y** un promedio general superior a 7."
   ]
  },
  {
   "attachments": {},
   "cell_type": "markdown",
   "metadata": {},
   "source": [
    "### Criterios de evaluación"
   ]
  },
  {
   "attachments": {},
   "cell_type": "markdown",
   "metadata": {},
   "source": [
    "Please note that it is not exhaustive.\n",
    "\n",
    "- El algoritmo da el resultado correcto?\n",
    "\n",
    "- El codigo debe ser legible, es decir, otra persona ademas del programador debe poder entender lo que han resuelto. \n",
    "\n",
    "- Son los algorithmos eficientes? Es decir, existe una mejor solución? (para el caso que hagan \"hardcoding\" para llegar a un resultado. \n",
    "\n",
    "- En caso de que el programa no funcione, igualmente será correjido, pero deberan incluir información adicional sobre ¿por qué no funciona?\n",
    "\n",
    "- ...\n",
    "\n"
   ]
  },
  {
   "attachments": {},
   "cell_type": "markdown",
   "metadata": {},
   "source": [
    "# ¿Qué es Python?\n",
    "\n"
   ]
  },
  {
   "attachments": {},
   "cell_type": "markdown",
   "metadata": {},
   "source": [
    "Python es un lenguaje de programación de alto nivel. También es un Interprete. Es un lenguaje de facil y rápido aprendizaje. Recientemente de uso extendido dado a sintaxis clara facilidad de uso y comprension.  \n",
    "Por razones de compatibilidad, se sugiere utilizar la versión 3.8. \n"
   ]
  },
  {
   "attachments": {},
   "cell_type": "markdown",
   "metadata": {},
   "source": [
    "# Por qué utilizar Python?"
   ]
  },
  {
   "attachments": {},
   "cell_type": "markdown",
   "metadata": {},
   "source": [
    "(Pros) : Python es un lenguaje de programación de alto nivel, simple y sencillo. En particular, la forma de definir funciones y objetos. \n",
    "\n",
    "La gramatíca de Python nos fuerza a utilizar una linea por commando, e indentar el codigo. Estas son \"buenas practicas\" en cualquier lenguaje de programación.\n",
    "\n",
    "Es de \"accesso abierto\" (codigo libre).\n",
    "\n",
    "Muchos programadores y empreseas utilizan Python ya que es fácil de aprender y leer. Ya existen muchos modulos o librerias para resolver problemas(numpy, scipy, biopython,...), además de una extensa documentación.\n",
    "\n",
    "Es un buen lenguaje para proyectos colaborativos."
   ]
  },
  {
   "attachments": {},
   "cell_type": "markdown",
   "metadata": {},
   "source": [
    "(Cons) : Aunque Python es bastante eficiente, será más lento que otros lenguajes de más bajo nivel cómo C o C++. "
   ]
  },
  {
   "attachments": {},
   "cell_type": "markdown",
   "metadata": {},
   "source": [
    "# ¿Cómo utilizamos Python?"
   ]
  },
  {
   "attachments": {},
   "cell_type": "markdown",
   "metadata": {},
   "source": [
    "**Método 1:** \n",
    "\n",
    "Descargar e instalar Python. link: https://www.python.org/downloads/\n",
    "\n",
    "Luego podrán utilizar cualquier editor de texto para escribir su código y luego ejecutar el comando: \n",
    "\n",
    "$\\texttt{python archivo.py}$\n"
   ]
  },
  {
   "attachments": {},
   "cell_type": "markdown",
   "metadata": {},
   "source": [
    "**Método 2:** \n",
    "\n",
    "Google Colab. link: https://colab.research.google.com/notebooks/intro.ipynb \n",
    "\n",
    "Google Colaborative nos permite escribir y ejecutar código, además de \\texttt{incluir} la posibilidad de escribir bloques de texto (y acepta la syntaxis de $\\LaTeX$). \n"
   ]
  },
  {
   "attachments": {},
   "cell_type": "markdown",
   "metadata": {},
   "source": [
    "**Método 3:** \n",
    "\n",
    " Descargar e instalar Anaconda. link: https://www.anaconda.com/. \n",
    "\n",
    " Esta distribución de Python incluye herramientas e IDE's para realizar analisis de datos. Por ejemplo, python, syder IDE, Jupyter, y R entre otras. \n",
    "\n",
    "Utilizaremos el IDE llamdo **Spider** para editar y ejecutar nuestro código.\n"
   ]
  },
  {
   "attachments": {},
   "cell_type": "markdown",
   "metadata": {},
   "source": [
    "**Método 4:**\n",
    "\n",
    "- Descargar e instalar Python. link: https://www.python.org/downloads/\n",
    "- Descargar e instalar Anaconda. link: https://code.visualstudio.com/ \n",
    "\n",
    " Esta distribución de Python incluye herramientas e IDE's para realizar analisis de datos. Por ejemplo, python, syder IDE, Jupyter, y R entre otras. \n",
    "\n",
    "Utilizaremos el IDE llamdo **VS Code** para editar y ejecutar nuestro código.\n",
    "\n"
   ]
  },
  {
   "attachments": {},
   "cell_type": "markdown",
   "metadata": {},
   "source": [
    "**Método 5:** \n",
    "\n",
    "Editores y Recursos online.\n",
    "\n",
    "-    Programiz Online Compiler. link: https://www.programiz.com/python-programming/online-compiler/\n",
    "  \n",
    "\n",
    "\n",
    "\n"
   ]
  },
  {
   "attachments": {},
   "cell_type": "markdown",
   "metadata": {},
   "source": [
    "# Recursos.\n",
    "\n",
    "## Descargas.\n",
    "-   Python : https://www.python.org\n",
    "-   Atom : https://atom.io (editor)\n",
    "-   Anaconda : https://www.anaconda.com/download/\n",
    "-   GNU Emacs : https://www.gnu.org/software/emacs/ (editor)\n"
   ]
  },
  {
   "attachments": {},
   "cell_type": "markdown",
   "metadata": {},
   "source": [
    "## Documentación.\n",
    "- Documentacion Oficial de Python: https://docs.python.org/es/3/\n",
    "\n",
    "- Tutorial Oficial de Python: https://docs.python.org/es/3/tutorial/\n",
    "\n",
    "- Tutorial \"Aprende Python (Learn Python): https://www.learnpython.org/es/\n",
    "\n",
    "- Cátedra 75.01 95.01 Computación, del Departamento de Computación de la Universidad de Buenos Aires: http://materias.fi.uba.ar/7501/Fiuba%20%20Computaci%f3n.htm\n"
   ]
  },
  {
   "attachments": {},
   "cell_type": "markdown",
   "metadata": {},
   "source": [
    "## Recursos. \n",
    "\n",
    "-   Programiz Online Compiler: https://www.programiz.com/python-programming/online-compiler/\n",
    "\n",
    "-   Google Colaborative: https://colab.research.google.com/notebooks/intro.ipynb\n",
    "\n",
    "-  [Burin et al., 2017] Ing. Daniel Burin y Docentes de la cátedra 75.01/ 95.01 Computación (ed. 2017).  Departamento de Computación, Facultad de Ingeniería, Universidad de Buenos Aires. “Algoritmos y Programación I Aprendiendo a programar usando Python como herramienta”: http://materias.fi.uba.ar/7501/apunte%20PYTHON.pdf\n",
    "\n",
    "-  StackOverflow: https://stackoverflow.com/\n",
    "\n",
    "-  Google."
   ]
  },
  {
   "attachments": {},
   "cell_type": "markdown",
   "metadata": {},
   "source": [
    "## Bibliografía.\n",
    "\n",
    "- [Joyanes, 2003] Joyanes Aguilar, L. (2003). Fundamentos de Programación; Algoritmos, Estructuras de Datos y Objetos (3a. ed.). Madrid: McGraw-Hill Interamericana.\n",
    "\n",
    "- [Cormen et al., 2017] Cormen, T. H., Leiserson, C. E., Rivest, R. L., & Stein, C. (2017). Introduction to algorithms.\n",
    "\n",
    "- [Aho et al., 1998] Aho, A. V., Hopcroft, J. E., & Ullman, J. D. (1998). Estructuras de datos y algoritmos.\n",
    "\n",
    "- [Goodrich et al., 2018] Goodrich, M. T., Tamassia, R., & Goldwasser, M. H. (2018). Data structures and algorithms in Python.\n",
    "\n",
    "- [Lee et al., 2015] Lee, K. D., & Hubbard, S. (2015). Data Structures and Algorithms with Python. Cham: Springer International Publishing.\n",
    "\n",
    "- [Weiss, 2010] Weiss, M. A. (2010). Data structures & problem solving using Java. Boston: Pearson Education.\n",
    "\n",
    "- [Drozdek, 2007] Drozdek, A. (2007). Estructura de Datos Y Algoritmos en Java. Cengage Learning Latin America.\n",
    "\n",
    "- [Brassard et al., 2008] Brassard, G., & Bratley, P. (2008). Fundamentos de algoritmia. Madrid: Pearson Prentice Hall.\n",
    "\n",
    "- [Heilman, 2010] Heileman,Gregory, L. (2010). Estructura de datos, algoritmos y programación orientada a objetos. La Habana: Editorial Félix Varela.\n",
    "\n",
    "- [Gamma et al., 1995] Gamma, E., Helm, R., Johnson, R. E., & Vlissides, J. (1995). Design patterns: Elements of reusable object-oriented software. Reading, Mass: Addison-Wesley.\n",
    "\n",
    "\n",
    "(La mayoria de los libros mencionados en ingles, tienen al menos una edición en español) "
   ]
  },
  {
   "attachments": {},
   "cell_type": "markdown",
   "metadata": {},
   "source": [
    "$~$"
   ]
  },
  {
   "attachments": {},
   "cell_type": "markdown",
   "metadata": {},
   "source": [
    "# Operaciones simples en Python."
   ]
  },
  {
   "attachments": {},
   "cell_type": "markdown",
   "metadata": {},
   "source": [
    "Utilizaremos Python como una \"mini-calculadora\" y realizar operaciones simples, i.e. suma, resta, multiplicacion, etc."
   ]
  },
  {
   "attachments": {},
   "cell_type": "markdown",
   "metadata": {},
   "source": [
    "### Operaciones Aritmenticas"
   ]
  },
  {
   "cell_type": "code",
   "execution_count": 2,
   "metadata": {},
   "outputs": [
    {
     "data": {
      "text/plain": [
       "8"
      ]
     },
     "execution_count": 2,
     "metadata": {},
     "output_type": "execute_result"
    }
   ],
   "source": [
    "2 + 6 # Suma"
   ]
  },
  {
   "cell_type": "code",
   "execution_count": 3,
   "metadata": {
    "scrolled": true
   },
   "outputs": [
    {
     "data": {
      "text/plain": [
       "-17"
      ]
     },
     "execution_count": 3,
     "metadata": {},
     "output_type": "execute_result"
    }
   ],
   "source": [
    "2 - 19 # Resta"
   ]
  },
  {
   "cell_type": "code",
   "execution_count": 4,
   "metadata": {},
   "outputs": [
    {
     "data": {
      "text/plain": [
       "54"
      ]
     },
     "execution_count": 4,
     "metadata": {},
     "output_type": "execute_result"
    }
   ],
   "source": [
    "2 * 27 # Multiplicación"
   ]
  },
  {
   "cell_type": "code",
   "execution_count": 7,
   "metadata": {},
   "outputs": [
    {
     "data": {
      "text/plain": [
       "16.5"
      ]
     },
     "execution_count": 7,
     "metadata": {},
     "output_type": "execute_result"
    }
   ],
   "source": [
    "165 / 10 # División."
   ]
  },
  {
   "cell_type": "code",
   "execution_count": 1,
   "metadata": {},
   "outputs": [
    {
     "data": {
      "text/plain": [
       "16"
      ]
     },
     "execution_count": 1,
     "metadata": {},
     "output_type": "execute_result"
    }
   ],
   "source": [
    "165 // 10 # Cociente de la división Euclidiana (Solamente parte entera)"
   ]
  },
  {
   "cell_type": "code",
   "execution_count": 6,
   "metadata": {},
   "outputs": [
    {
     "data": {
      "text/plain": [
       "5"
      ]
     },
     "execution_count": 6,
     "metadata": {},
     "output_type": "execute_result"
    }
   ],
   "source": [
    "165 % 10 # Resto de la división Euclidiana."
   ]
  },
  {
   "cell_type": "code",
   "execution_count": 8,
   "metadata": {},
   "outputs": [
    {
     "data": {
      "text/plain": [
       "9"
      ]
     },
     "execution_count": 8,
     "metadata": {},
     "output_type": "execute_result"
    }
   ],
   "source": [
    "3 ** 2 # Potencia"
   ]
  },
  {
   "attachments": {},
   "cell_type": "markdown",
   "metadata": {},
   "source": [
    "### Operaciones Lógicas\n",
    "\n",
    "Las operaciones lógicas nos devulven un \"Valor de Verdad\" (Verdadero, Falso) como resultado."
   ]
  },
  {
   "cell_type": "code",
   "execution_count": 9,
   "metadata": {},
   "outputs": [
    {
     "data": {
      "text/plain": [
       "False"
      ]
     },
     "execution_count": 9,
     "metadata": {},
     "output_type": "execute_result"
    }
   ],
   "source": [
    "1 == 2 # Igualdad"
   ]
  },
  {
   "cell_type": "code",
   "execution_count": 10,
   "metadata": {},
   "outputs": [
    {
     "data": {
      "text/plain": [
       "True"
      ]
     },
     "execution_count": 10,
     "metadata": {},
     "output_type": "execute_result"
    }
   ],
   "source": [
    "1 != 2 # Desigualdad"
   ]
  },
  {
   "cell_type": "code",
   "execution_count": 13,
   "metadata": {},
   "outputs": [
    {
     "data": {
      "text/plain": [
       "False"
      ]
     },
     "execution_count": 13,
     "metadata": {},
     "output_type": "execute_result"
    }
   ],
   "source": [
    "1 < 2 # menor \n",
    "1 > 2 # mayor\n",
    "1 <= 2 # menor o igual \n",
    "1 >= 2 # mayor o igual "
   ]
  },
  {
   "cell_type": "code",
   "execution_count": 20,
   "metadata": {},
   "outputs": [
    {
     "data": {
      "text/plain": [
       "True"
      ]
     },
     "execution_count": 20,
     "metadata": {},
     "output_type": "execute_result"
    }
   ],
   "source": [
    "not(True) # El operador lógico de \"NEGACIÓN\" \n",
    "True and False # El operador lógico \"Y\"\n",
    "True or False # El operador lógico \"O\""
   ]
  },
  {
   "cell_type": "code",
   "execution_count": 2,
   "metadata": {},
   "outputs": [
    {
     "name": "stdout",
     "output_type": "stream",
     "text": [
      "65\n"
     ]
    }
   ],
   "source": [
    "v1 = input(\"ingrese un numero: \") \n",
    "print(v1)\n"
   ]
  },
  {
   "attachments": {},
   "cell_type": "markdown",
   "metadata": {},
   "source": [
    "El operador \"$\\normalsize \\color{green}{\\textsf{or}}$\" (cómo muchas de las funciones en Python) esta optimizado. Es decir, es \"lazy\" (peresozo), si queremos evaluar la expresión \n",
    "$P_1$ $\\normalsize \\color{green}{\\textsf{or}}$ $P_2$ y $P_1$ es verdadera, entonces $P_1$ $\\normalsize \\color{green}{\\textsf{or}}$ $P_2$ tiene como resultado final \"verdadero\" ($\\normalsize \\color{green}{\\textsf{True}}$) aun antes de evaluar $P_2$. "
   ]
  },
  {
   "cell_type": "code",
   "execution_count": 3,
   "metadata": {},
   "outputs": [
    {
     "ename": "NameError",
     "evalue": "name 'var' is not defined",
     "output_type": "error",
     "traceback": [
      "\u001b[1;31m---------------------------------------------------------------------------\u001b[0m",
      "\u001b[1;31mNameError\u001b[0m                                 Traceback (most recent call last)",
      "Cell \u001b[1;32mIn[3], line 4\u001b[0m\n\u001b[0;32m      1\u001b[0m \u001b[39m# No tiene sentido, la varialbe 'var' no esta definida.\u001b[39;00m\n\u001b[0;32m      2\u001b[0m \u001b[39m# Ejecutar esta linea nos generara un error.\u001b[39;00m\n\u001b[1;32m----> 4\u001b[0m var\u001b[39m==\u001b[39m\u001b[39mTrue\u001b[39;00m \u001b[39m# \u001b[39;00m\n",
      "\u001b[1;31mNameError\u001b[0m: name 'var' is not defined"
     ]
    }
   ],
   "source": [
    "# No tiene sentido, la varialbe 'var' no esta definida.\n",
    "# Ejecutar esta linea nos generara un error.\n",
    "var==True # "
   ]
  },
  {
   "cell_type": "code",
   "execution_count": 4,
   "metadata": {},
   "outputs": [
    {
     "data": {
      "text/plain": [
       "True"
      ]
     },
     "execution_count": 4,
     "metadata": {},
     "output_type": "execute_result"
    }
   ],
   "source": [
    "# En el siguiente caso 1 == 1 es verdadero, \n",
    "# el operador 'or' no evaluara la parte var==True\n",
    "# (no nos aparece el error) \n",
    "\n",
    "1 == 1 or var == True\n"
   ]
  },
  {
   "cell_type": "code",
   "execution_count": 6,
   "metadata": {},
   "outputs": [
    {
     "data": {
      "text/plain": [
       "True"
      ]
     },
     "execution_count": 6,
     "metadata": {},
     "output_type": "execute_result"
    }
   ],
   "source": [
    "# En el siguiente caso var==True nos genera un error,\n",
    "# y el programa finaliza. \n",
    "var = False\n",
    "var == True or 1 == 1 \n"
   ]
  },
  {
   "attachments": {},
   "cell_type": "markdown",
   "metadata": {},
   "source": [
    "# Assignación y tipos de variales simples en Python."
   ]
  },
  {
   "attachments": {},
   "cell_type": "markdown",
   "metadata": {},
   "source": [
    "Como en cualquier otro lenguaje de programación, podemos asignar valores a un **\"nombre de variable\"**. \n",
    "Un *nombre de variable*, es un identificador alphanumerico el cual esta asociado a un espacio de memoria. \n",
    "\n",
    "En Python utilizamos el symbolo ${\\normalsize \\color{purple}{\\texttt{=}}}$, es pseudo-código habiamos elejido ${\\texttt{:=}}$. (en contraste con el operador $\\normalsize \\color{purple}{\\texttt{==}}$).  "
   ]
  },
  {
   "cell_type": "code",
   "execution_count": 4,
   "metadata": {},
   "outputs": [],
   "source": [
    "n_entero = 5                            # Un número entero  \n",
    "n_con_comma = 0.3                       # Un número de punto flotante\n",
    "v_bool = True                           # Un valor Booleano, verdadero o falso (True o False respectivamente)\n",
    "cad_de_caract = 'cadena de caracteres'  # Una cadena de caracteres (string), una palabra o frase entre \" \" o ' '.\n",
    "complejo= 1 + 1j                        # Un número complejo (escribimos j, en vez del tradicional i, para la parte imaginaria) \n"
   ]
  },
  {
   "attachments": {},
   "cell_type": "markdown",
   "metadata": {},
   "source": [
    "\n",
    "Cada **valor** que le asignamos a una variable, tiene asignado un **tipo**, el cual definira el tipo de la variable a cual el valor es asignado. Es decir, en Python el tipo de una variable es asignado dinamicamente durante la ejecución del programa, dependiendo del valor contenido.  \n",
    "\n",
    "Nota: la función $\\normalsize \\color{green}{\\texttt{print}}$ nos permite escribir en la pantalla/consola. \n"
   ]
  },
  {
   "cell_type": "code",
   "execution_count": 5,
   "metadata": {},
   "outputs": [
    {
     "name": "stdout",
     "output_type": "stream",
     "text": [
      "<class 'int'> 5\n",
      "<class 'float'> 0.3\n",
      "<class 'bool'> True\n",
      "<class 'str'> cadena de caracteres\n",
      "<class 'complex'> (1+1j)\n"
     ]
    }
   ],
   "source": [
    "print(type(n_entero), n_entero)         # es del tipo int'\n",
    "print(type(n_con_comma), n_con_comma)      # es del tipo 'float'\n",
    "print(type(v_bool), v_bool)           # es del tipo 'bool'\n",
    "print(type(cad_de_caract), cad_de_caract)    # es del tipo 'str'\n",
    "print(type(complejo), complejo)         # es del tipo 'complex'"
   ]
  },
  {
   "attachments": {},
   "cell_type": "markdown",
   "metadata": {},
   "source": [
    "El symbolo de igualdad--que utilizamos para realizar asignaciones--no es un operador symetrico. \n",
    "\n",
    "Es decir $v_1 = v_2$ no es lo mismo que $v_2 = v_1$. "
   ]
  },
  {
   "cell_type": "code",
   "execution_count": 11,
   "metadata": {},
   "outputs": [
    {
     "name": "stdout",
     "output_type": "stream",
     "text": [
      "v1=  3\n",
      "v2=  3\n",
      "v1=  2\n",
      "v2=  2\n"
     ]
    }
   ],
   "source": [
    "v1 = 2\n",
    "v2 = 3\n",
    "v1 = v2            # v1 toma el valor de v2\n",
    "print(\"v1= \",v1)\n",
    "print(\"v2= \",v2)\n",
    "\n",
    "v1 = 2\n",
    "v2 = 3\n",
    "v2 = v1            # v2 toma el valor de v1\n",
    "print(\"v1= \",v1)\n",
    "print(\"v2= \",v2)"
   ]
  },
  {
   "attachments": {},
   "cell_type": "markdown",
   "metadata": {},
   "source": [
    "\n",
    "Los operadores $\\normalsize \\color{purple}{\\texttt{+=}}$, $\\normalsize \\color{purple}{\\texttt{+=}}$, $\\normalsize \\color{purple}{\\texttt{*=}}$, etc. nos permiten realizar operaciones sobre una variable sin tener que nombrarla dos veces.    \n"
   ]
  },
  {
   "cell_type": "code",
   "execution_count": 12,
   "metadata": {},
   "outputs": [
    {
     "name": "stdout",
     "output_type": "stream",
     "text": [
      "4\n",
      "8\n"
     ]
    }
   ],
   "source": [
    "v1 = 1\n",
    "\n",
    "v1 += 3 # Incrementamos sobre v1. Es equivalente a escribir  \"v1 = v1 + 3\"\n",
    "        # Este metodo es mas eficiente y facil de escribir.\n",
    "print(v1)\n",
    "\n",
    "v1 *= 2 # También funciona con *= quievalente a \"v1 = v1 * 2\"\n",
    "\n",
    "print(v1) "
   ]
  },
  {
   "cell_type": "code",
   "execution_count": 15,
   "metadata": {
    "scrolled": true
   },
   "outputs": [
    {
     "name": "stdout",
     "output_type": "stream",
     "text": [
      "5 2 hola\n"
     ]
    }
   ],
   "source": [
    "v1 = 5  \n",
    "\n",
    "v2 = 3\n",
    "\n",
    "v2,frase = 2,\"hola\"   # Asignación Multiple. El orden es importante!\n",
    "\n",
    "#v1, v2, v3 =  v1 + 5, v2 + 2, 4\n",
    "\n",
    "print (v1,v2,frase)"
   ]
  },
  {
   "cell_type": "code",
   "execution_count": 14,
   "metadata": {},
   "outputs": [
    {
     "name": "stdout",
     "output_type": "stream",
     "text": [
      "v1= 3\n",
      "v2= 150\n",
      "<class 'bool'>\n",
      "<class 'int'>\n"
     ]
    }
   ],
   "source": [
    "v1 = 150\n",
    "v2 = 3\n",
    "\n",
    "\n",
    "v1 , v2  = v2 , v1  # Python nos permite intercambiar los valores de las variables fácilmente.\n",
    "\n",
    "print(\"v1=\",v1)\n",
    "print(\"v2=\",v2)\n",
    "\n",
    "v1 = True or 1 > 2\n",
    "print(type(v1))\n",
    "v1 = 5\n",
    "print(type(v1))"
   ]
  },
  {
   "cell_type": "code",
   "execution_count": 16,
   "metadata": {},
   "outputs": [
    {
     "name": "stdout",
     "output_type": "stream",
     "text": [
      "v1= 3\n",
      "v2= 3\n"
     ]
    }
   ],
   "source": [
    "# Ahora contrastemos con este ejemplo (el cual no realiza el mismo trabajo) \n",
    "v1=150\n",
    "v2=3\n",
    "v1=v2\n",
    "v2=v1\n",
    "print(\"v1=\",v1)# Ahora v1 y v2 son iguales. \n",
    "print(\"v2=\",v2)"
   ]
  },
  {
   "attachments": {},
   "cell_type": "markdown",
   "metadata": {},
   "source": [
    "\n",
    "El *tipo* de una variable es importante. Siempre debemos recordar cuales son los tipos de las variables que hemos definido, ya que **Python no provee ninguna forma de fijar el tipo de una variable**. \n",
    "\n",
    "\n",
    "Python nos provee funciones para cambiar el tipo de una variable. Si queremos cambiar el tipo de la variable $v$ al tipo $\\texttt{ftype}$, utilizamos el siguiente comando $\\texttt{v} = \\texttt{ftype(v)}$. \n",
    "\n",
    "\n",
    "El resultado dependera del tipo de la variable que queremos transformar, e.g. si convertimos una variable de punto flotatante a un entero utilizando la función $\\normalsize \\color{green}{\\textsf{int}}()$, solo obtendremos la parte entera de la variable. \n"
   ]
  },
  {
   "cell_type": "code",
   "execution_count": 7,
   "metadata": {},
   "outputs": [
    {
     "name": "stdout",
     "output_type": "stream",
     "text": [
      "5\n",
      "5.0\n",
      "0.3\n",
      "0\n",
      "(5+0j)\n",
      "45\n",
      "<class 'int'>\n"
     ]
    }
   ],
   "source": [
    "print(n_entero)           # n_entero = 5\n",
    "print(float(n_entero))\n",
    "\n",
    "print(n_con_comma)        # n_con_comma = 0.3\n",
    "print(int(n_con_comma))\n",
    "\n",
    "print(complex(n_entero))\n",
    "\n",
    "n = int(input(\"Ingrese un número: \"))\n",
    "\n",
    "print(n) \n",
    "print(type(n))"
   ]
  },
  {
   "attachments": {},
   "cell_type": "markdown",
   "metadata": {},
   "source": [
    "\n",
    "Algunos nombre de variables estan protegidos. Es decir, *no podemos usarlos como nombres de variables y asginarles un valor*. \n",
    "\n",
    "Por Ejemplo:\n"
   ]
  },
  {
   "cell_type": "code",
   "execution_count": null,
   "metadata": {},
   "outputs": [],
   "source": [
    "True = 3  # True es un nombre protegido, por lo cual se generara un error."
   ]
  },
  {
   "attachments": {},
   "cell_type": "markdown",
   "metadata": {},
   "source": [
    "Sólo algunos nombres (o palabras) están protegidos en Python, debemos tener cuidado. \n",
    "Las \"reglas basicas\" para nombrar variables para nombrar variables, son dependientes del lenguaje y del estilo de programación. \n",
    "Aquí mencionamos algunas reglas basicas:\n",
    "\n",
    "\n",
    "- asegurarse de no repetir nombres. \n",
    "- solo usar un caracter para las variable que no son importantes. \n",
    "- usar nombres especificos para las variables que son importantes. \n",
    "- no usar nombre se variables muy largos. \n",
    "\n",
    "Finalmente, ejecutando el código a continuación, podemos ver la lista de *nombres protegidos* de Python y la lista de *funciones pre-definidas* en Python. \n"
   ]
  },
  {
   "cell_type": "code",
   "execution_count": 8,
   "metadata": {},
   "outputs": [
    {
     "name": "stdout",
     "output_type": "stream",
     "text": [
      "False - None - True - and - as - assert - async - await - break - class - continue - def - del - elif - else - except - finally - for - from - global - if - import - in - is - lambda - nonlocal - not - or - pass - raise - return - try - while - with - yield - \n",
      "\n",
      "ArithmeticError - AssertionError - AttributeError - BaseException - BaseExceptionGroup - BlockingIOError - BrokenPipeError - BufferError - BytesWarning - ChildProcessError - ConnectionAbortedError - ConnectionError - ConnectionRefusedError - ConnectionResetError - DeprecationWarning - EOFError - Ellipsis - EncodingWarning - EnvironmentError - Exception - ExceptionGroup - False - FileExistsError - FileNotFoundError - FloatingPointError - FutureWarning - GeneratorExit - IOError - ImportError - ImportWarning - IndentationError - IndexError - InterruptedError - IsADirectoryError - KeyError - KeyboardInterrupt - LookupError - MemoryError - ModuleNotFoundError - NameError - None - NotADirectoryError - NotImplemented - NotImplementedError - OSError - OverflowError - PendingDeprecationWarning - PermissionError - ProcessLookupError - RecursionError - ReferenceError - ResourceWarning - RuntimeError - RuntimeWarning - StopAsyncIteration - StopIteration - SyntaxError - SyntaxWarning - SystemError - SystemExit - TabError - TimeoutError - True - TypeError - UnboundLocalError - UnicodeDecodeError - UnicodeEncodeError - UnicodeError - UnicodeTranslateError - UnicodeWarning - UserWarning - ValueError - Warning - WindowsError - ZeroDivisionError - __IPYTHON__ - __build_class__ - __debug__ - __doc__ - __import__ - __loader__ - __name__ - __package__ - __spec__ - abs - aiter - all - anext - any - ascii - bin - bool - breakpoint - bytearray - bytes - callable - chr - classmethod - compile - complex - copyright - credits - delattr - dict - dir - display - divmod - enumerate - eval - exec - execfile - filter - float - format - frozenset - get_ipython - getattr - globals - hasattr - hash - help - hex - id - input - int - isinstance - issubclass - iter - len - license - list - locals - map - max - memoryview - min - next - object - oct - open - ord - pow - print - property - range - repr - reversed - round - runfile - set - setattr - slice - sorted - staticmethod - str - sum - super - tuple - type - vars - zip - "
     ]
    }
   ],
   "source": [
    "import keyword\n",
    "for x in keyword.kwlist:\n",
    "    print(x,end=\" - \")#Esta es la lista de nombres (o palabras) protegidas.\n",
    "print()\n",
    "print()\n",
    "import builtins\n",
    "for x in  dir(builtins): #Funciones provistas por Python (built-in functions).  \n",
    "    print (x, end= \" - \")"
   ]
  },
  {
   "attachments": {},
   "cell_type": "markdown",
   "metadata": {},
   "source": [
    "# Algunas funciones de Python\n",
    "\n",
    "En Python, una función es invocada de la siguiente forma $\\normalsize \\color{green}{\\textsf{function}} \\texttt(variable_1, \\ldots, variable_r)$. \n",
    "Ya hemos visto angunas funciones como $\\normalsize \\color{green}{\\textsf{print, type, int}}, \\ldots$. \n",
    "\n",
    "En la salida del programa anterior, puede verse una lista de las funciones provistas por Python ($\\textit{built-in functions}$). Luego, comenzaremos a definir nuestras propias funciones. Por el momento veremos algunos ejemplos útiles. \n"
   ]
  },
  {
   "attachments": {},
   "cell_type": "markdown",
   "metadata": {},
   "source": [
    "## La función print\n",
    "\n",
    "La función $\\normalsize \\color{green}{\\textsf{print}}$ puede aceptar muchos argumentos de entrada. Los argumentos, ya sean valores o nombres de variables, se imprimiran en el mismo orden indicado, separados por un espacio.\n",
    "\n",
    "Por defecto la función $\\normalsize \\color{green}{\\textsf{print}}$ agrega un salto de linea al finalalizar la impresion de los datos.\n"
   ]
  },
  {
   "cell_type": "code",
   "execution_count": 9,
   "metadata": {},
   "outputs": [
    {
     "name": "stdout",
     "output_type": "stream",
     "text": [
      "3\n",
      "dies irae\n",
      "True\n"
     ]
    }
   ],
   "source": [
    "print(3) # Imprime el número (entero) 3.\n",
    "print('dies irae') # Imprime el string dies irae\n",
    "print(True) # Imprime True"
   ]
  },
  {
   "cell_type": "code",
   "execution_count": 10,
   "metadata": {},
   "outputs": [
    {
     "name": "stdout",
     "output_type": "stream",
     "text": [
      "2\n"
     ]
    }
   ],
   "source": [
    "x = 2\n",
    "print(x) # Imprime el valor de la variable y no el nombre."
   ]
  },
  {
   "cell_type": "code",
   "execution_count": 11,
   "metadata": {},
   "outputs": [
    {
     "name": "stdout",
     "output_type": "stream",
     "text": [
      "3 -- dies irae -- True*"
     ]
    }
   ],
   "source": [
    "print(3,'dies irae',True,sep=' -- ', end=\"*\") # podemos imprimir diferentes argumentos \n",
    "                          # en la misma linea"
   ]
  },
  {
   "attachments": {},
   "cell_type": "markdown",
   "metadata": {},
   "source": [
    "Para cambiar el 'terminador' del commando $\\normalsize \\color{green}{\\textsf{print}}$--que por defecto es \"\\n\" (barra n)--debemos añadir el argumento: $\\texttt{end=\"terminador\"}$."
   ]
  },
  {
   "cell_type": "code",
   "execution_count": 12,
   "metadata": {},
   "outputs": [
    {
     "name": "stdout",
     "output_type": "stream",
     "text": [
      "3*dies irae*True\n",
      "3\n",
      "dies irae  True\n"
     ]
    }
   ],
   "source": [
    "\n",
    "print(3,end=\"*\")            # Cambia el salto de linea por un * . \n",
    "print('dies irae',end=\"*\")  # Cambia el salto de linea por un * .\n",
    "print(True)                 # Imprime un salto de linea.\n",
    "print(3)           # Cambia el salto de linea por un espacio.\n",
    "print('dies irae',end=\"  \") # Cambia el salto de linea por un espacio.\n",
    "print(True)                 # Imprime un salto de linea."
   ]
  },
  {
   "attachments": {},
   "cell_type": "markdown",
   "metadata": {},
   "source": [
    "## La función input\n",
    "\n",
    "La función $\\normalsize \\color{green}{\\textsf{input}}$ toma como argumento una cadena de caracteres. Luego, la consola del systema, escribe la cadena de caracteres y queda en espera a que el usuario introduzca algo con el teclado, lo cual sera el resultado devuelto por la funcion $\\normalsize \\color{green}{\\textsf{input}}$. \n",
    "\n",
    "**El tipo del resultado es siempre una cadena de caracteres!!** "
   ]
  },
  {
   "cell_type": "code",
   "execution_count": 21,
   "metadata": {},
   "outputs": [
    {
     "name": "stdout",
     "output_type": "stream",
     "text": [
      "<class 'str'>\n",
      "23\n"
     ]
    }
   ],
   "source": [
    "n = input(\"Por favor ingrese un número : \")\n",
    "print(type(n))\n",
    "print(n)\n"
   ]
  },
  {
   "cell_type": "code",
   "execution_count": 22,
   "metadata": {},
   "outputs": [
    {
     "name": "stdout",
     "output_type": "stream",
     "text": [
      "<class 'str'>\n",
      "24\n",
      "231\n"
     ]
    }
   ],
   "source": [
    "print(type(n))     # El tipo de la variable n es 'srt' y no 'int'.\n",
    "print(int(n) + 1)    # Aquí vemos que pasa cuando mezclamos distintos tipos de datos (algunos serán compatibles).\n",
    "print(n + '1')"
   ]
  },
  {
   "attachments": {},
   "cell_type": "markdown",
   "metadata": {},
   "source": [
    "## La Función help\n",
    "\n",
    "La función $\\normalsize \\color{green}{\\textsf{help}}$ toma cualquier función predefinida en el lenguaje Python como argumento y nos muestra su codigo. "
   ]
  },
  {
   "cell_type": "code",
   "execution_count": 26,
   "metadata": {},
   "outputs": [
    {
     "name": "stdout",
     "output_type": "stream",
     "text": [
      "Help on _Helper in module _sitebuiltins object:\n",
      "\n",
      "class _Helper(builtins.object)\n",
      " |  Define the builtin 'help'.\n",
      " |  \n",
      " |  This is a wrapper around pydoc.help that provides a helpful message\n",
      " |  when 'help' is typed at the Python interactive prompt.\n",
      " |  \n",
      " |  Calling help() at the Python prompt starts an interactive help session.\n",
      " |  Calling help(thing) prints help for the python object 'thing'.\n",
      " |  \n",
      " |  Methods defined here:\n",
      " |  \n",
      " |  __call__(self, *args, **kwds)\n",
      " |      Call self as a function.\n",
      " |  \n",
      " |  __repr__(self)\n",
      " |      Return repr(self).\n",
      " |  \n",
      " |  ----------------------------------------------------------------------\n",
      " |  Data descriptors defined here:\n",
      " |  \n",
      " |  __dict__\n",
      " |      dictionary for instance variables (if defined)\n",
      " |  \n",
      " |  __weakref__\n",
      " |      list of weak references to the object (if defined)\n",
      "\n"
     ]
    }
   ],
   "source": [
    "#help(print)\n",
    "#help(input)\n",
    "help(help)"
   ]
  },
  {
   "attachments": {},
   "cell_type": "markdown",
   "metadata": {},
   "source": [
    "# Algunas reglas para escribir programas en Python.\n",
    "\n",
    "\n",
    "Todos los lenguajes de programación requieren de un gramatica estricta. En general, cuando comentemos un error, directamente obtendremos un mensaje de error, en muy pocos casos, el programa continuara y generalmente generando \"peores\" errores. Debemos recordar que la gramatica de Python forzada para mejorar la legibilidad del codigo fuente.\n",
    "\n",
    "En Python la ejecución de un archivo $\\textit{.py}$ ejecutara cada linea del archivo, una luego de la otra."
   ]
  },
  {
   "attachments": {},
   "cell_type": "markdown",
   "metadata": {},
   "source": [
    "**Regla 1.** Como ya hemos visto, para terminar una linea de instrucciones (comandos) debemos pasar a la linea siguiente, i.e. Python utiliza el salto de linea (otros lenguajes terminan los comandos utilizando symbolos como *';', ':', ':'*, etc...) *El salto de linea tiene un significado especial en Python*. Por ello, es *imposible* escribir dos comandos en la misma linea. "
   ]
  },
  {
   "cell_type": "code",
   "execution_count": 27,
   "metadata": {},
   "outputs": [
    {
     "ename": "SyntaxError",
     "evalue": "invalid syntax (2814704029.py, line 1)",
     "output_type": "error",
     "traceback": [
      "\u001b[1;36m  Cell \u001b[1;32mIn[27], line 1\u001b[1;36m\u001b[0m\n\u001b[1;33m    a=3  b=2 #Error\u001b[0m\n\u001b[1;37m         ^\u001b[0m\n\u001b[1;31mSyntaxError\u001b[0m\u001b[1;31m:\u001b[0m invalid syntax\n"
     ]
    }
   ],
   "source": [
    "a=3  b=2 #Error"
   ]
  },
  {
   "cell_type": "code",
   "execution_count": 28,
   "metadata": {},
   "outputs": [],
   "source": [
    "a=3\n",
    "b=2\n",
    "a,b = 3,2"
   ]
  },
  {
   "attachments": {},
   "cell_type": "markdown",
   "metadata": {},
   "source": [
    "En el siguiente ejemplo, escribimos una linea de codigo correcta. Sin embargo, es muy larga y dificulta la correcta lectura del programa."
   ]
  },
  {
   "cell_type": "code",
   "execution_count": null,
   "metadata": {},
   "outputs": [],
   "source": [
    "print('Lorem ipsum dolor sit amet, consectetur adipiscing elit, sed do eiusmod tempor incididunt ut labore et dolore magna aliqua. Ut enim ad minim veniam, quis nostrud exercitation ullamco laboris nisi ut aliquip ex ea commodo consequat. Duis aute irure dolor in reprehenderit in voluptate velit esse cillum dolore eu fugiat nulla pariatur. Excepteur sint occaecat cupidatat non proident, sunt in culpa qui officia deserunt mollit anim id est laborum.')"
   ]
  },
  {
   "attachments": {},
   "cell_type": "markdown",
   "metadata": {},
   "source": [
    "La solución inmediata seria pasar a la siguiente linea. Pero como los saltos de linea tienen un significado estructural, el interprete entiende la primer linea de comandos como incompleta generando un error. "
   ]
  },
  {
   "cell_type": "code",
   "execution_count": null,
   "metadata": {},
   "outputs": [],
   "source": [
    "print('Lorem ipsum dolor sit amet, consectetur adipiscing elit, sed do eiusmod tempor incididunt\n",
    "      ut labore et dolore magna aliqua. Ut enim ad minim veniam, quis nostrud exercitation ullamco\n",
    "      laboris nisi ut aliquip ex ea commodo consequat. Duis aute irure dolor in reprehenderit\n",
    "      in voluptate velit esse cillum dolore eu fugiat nulla pariatur. Excepteur sint occaecat\n",
    "      cupidatat non proident, sunt in culpa qui officia deserunt mollit anim id est laborum.')"
   ]
  },
  {
   "attachments": {},
   "cell_type": "markdown",
   "metadata": {},
   "source": [
    "**Regla 2.** La forma que nos provee Python para lidear con esto, es omitir el salto de linea añadiendo la barra *'\\'* antes del salto de linea. Debemos tener en cuenta, que al utilizar la barra, todo lo que este despues de ella no será considerado (como si estuviera comentado, ver siguiente)."
   ]
  },
  {
   "cell_type": "code",
   "execution_count": 29,
   "metadata": {},
   "outputs": [
    {
     "name": "stdout",
     "output_type": "stream",
     "text": [
      "Lorem ipsum dolor sit amet, consectetur adipiscing elit, sed do eiusmod tempor incididunt ut labore et doloremagna aliqua. Ut enim ad minim veniam, quis nostrud exercitation ullamco laboris nisi ut aliquip ex ea commodo consequat. Duis aute irure dolor in reprehenderitin voluptate velit esse cillum dolore eu fugiat nulla pariatur. Excepteur sint occaecat cupidatat non proident,sunt in culpa qui officia deserunt mollit anim id est laborum.\n"
     ]
    }
   ],
   "source": [
    "print('Lorem ipsum dolor sit amet, consectetur adipiscing elit, sed do eiusmod tempor incididunt ut labore et dolore\\\n",
    "magna aliqua. Ut enim ad minim veniam,\\\n",
    "quis nostrud exercitation ullamco \\\n",
    "laboris nisi ut aliquip ex ea commodo consequat. Duis aute irure dolor in reprehenderit\\\n",
    "in voluptate velit esse cillum dolore eu fugiat nulla pariatur. \\\n",
    "Excepteur sint occaecat cupidatat non proident,\\\n",
    "sunt in culpa qui officia deserunt mollit anim id est laborum.')"
   ]
  },
  {
   "attachments": {},
   "cell_type": "markdown",
   "metadata": {},
   "source": [
    "**Regla 3.** Para añadir comentarios en el codigo fuente (mejora la legibilidad del programa) utilizamos el symbolo numeral **'#'**. Neutraliza todo lo que este escrito hasta el salto de linea. Python no provee ninguna facilidad para escribir comentarios largos, debemos escribir el symbolo numeral en cada linea donde se extiende el comentario. Una buena practica para mejorar la legibilidad de los comentarios largos, es no escribir codigo referido al comentario durante la extensión del mismo. "
   ]
  },
  {
   "cell_type": "code",
   "execution_count": null,
   "metadata": {},
   "outputs": [],
   "source": [
    "a=1 # Asignamos 1 a la variable a\n",
    "\n",
    "a=1 # Re-asignamos el valor de a, podriamos  \n",
    "    # seguir escribiendo la finalidad de\n",
    "    # esta re-asignación, o continuar  \n",
    "    # ecribiendo sobre la instrucción a=1.\n",
    "    \n",
    "a=1 # Nuevo Comentario."
   ]
  },
  {
   "attachments": {},
   "cell_type": "markdown",
   "metadata": {},
   "source": [
    "## Sentencias\n"
   ]
  },
  {
   "attachments": {},
   "cell_type": "markdown",
   "metadata": {},
   "source": [
    "**Regla 4.** *Python es un lenguaje de programación indentado*. Esto significa que todas las lineas con comandos comienzan en el mismo lugar tienen el mismo *'status'* dentro de la lógica del programa. En otras palabras, *todos los espacios al comienzo de una linea tienen un significado* (excepto cuando usamos comentarios *'#'* ). "
   ]
  },
  {
   "cell_type": "code",
   "execution_count": 31,
   "metadata": {},
   "outputs": [
    {
     "data": {
      "text/plain": [
       "5"
      ]
     },
     "execution_count": 31,
     "metadata": {},
     "output_type": "execute_result"
    }
   ],
   "source": [
    "2+3 # Funciona sin problemas "
   ]
  },
  {
   "cell_type": "code",
   "execution_count": 30,
   "metadata": {},
   "outputs": [
    {
     "data": {
      "text/plain": [
       "5"
      ]
     },
     "execution_count": 30,
     "metadata": {},
     "output_type": "execute_result"
    }
   ],
   "source": [
    " 3+2 # Funciona sin problemas"
   ]
  },
  {
   "cell_type": "code",
   "execution_count": 32,
   "metadata": {},
   "outputs": [
    {
     "ename": "IndentationError",
     "evalue": "unexpected indent (1605126837.py, line 2)",
     "output_type": "error",
     "traceback": [
      "\u001b[1;36m  Cell \u001b[1;32mIn[32], line 2\u001b[1;36m\u001b[0m\n\u001b[1;33m    3+2 # Aquí la primera y segunda linea deben\u001b[0m\n\u001b[1;37m    ^\u001b[0m\n\u001b[1;31mIndentationError\u001b[0m\u001b[1;31m:\u001b[0m unexpected indent\n"
     ]
    }
   ],
   "source": [
    "2+3 \n",
    " 3+2 # Aquí la primera y segunda linea deben \n",
    "     # tener la misma indentación, porque no hay cambio \n",
    "     # en el flujo del programa como: \n",
    "     # ciclos, condicionales, definiciones, etc ... "
   ]
  },
  {
   "attachments": {},
   "cell_type": "markdown",
   "metadata": {},
   "source": [
    "## Condiciones\n",
    "\n",
    "Para utilizar las instrucciones condicionales, debemos usar los dos puntos **':'**. La diferentes palabras reservadas de la instrucción condicional son: $\\normalsize \\color{green}{\\textsf{if}}$, $\\normalsize \\color{green}{\\textsf{elif}}$ y $\\normalsize \\color{green}{\\textsf{else}}$.  "
   ]
  },
  {
   "cell_type": "code",
   "execution_count": 33,
   "metadata": {},
   "outputs": [
    {
     "name": "stdout",
     "output_type": "stream",
     "text": [
      "Es Falso\n"
     ]
    }
   ],
   "source": [
    "if 0 == 1 : # si condición, ':' entonces\n",
    "    print('Es Verdadero')\n",
    "else: #sino,. \n",
    "    print('Es Falso')"
   ]
  },
  {
   "cell_type": "code",
   "execution_count": 34,
   "metadata": {},
   "outputs": [
    {
     "ename": "SyntaxError",
     "evalue": "invalid syntax (3104565394.py, line 3)",
     "output_type": "error",
     "traceback": [
      "\u001b[1;36m  Cell \u001b[1;32mIn[34], line 3\u001b[1;36m\u001b[0m\n\u001b[1;33m    else: #\"if\", \"elif\", y \"else\" deben tener la misma indentación.\u001b[0m\n\u001b[1;37m    ^\u001b[0m\n\u001b[1;31mSyntaxError\u001b[0m\u001b[1;31m:\u001b[0m invalid syntax\n"
     ]
    }
   ],
   "source": [
    "if 0==1:\n",
    "    print('Problem')\n",
    "    else: #\"if\", \"elif\", y \"else\" deben tener la misma indentación. \n",
    "    print('No Problem')"
   ]
  },
  {
   "cell_type": "code",
   "execution_count": 13,
   "metadata": {},
   "outputs": [
    {
     "ename": "SyntaxError",
     "evalue": "invalid syntax (<ipython-input-13-a0f02f3bf4c8>, line 1)",
     "output_type": "error",
     "traceback": [
      "\u001b[0;36m  File \u001b[0;32m\"<ipython-input-13-a0f02f3bf4c8>\"\u001b[0;36m, line \u001b[0;32m1\u001b[0m\n\u001b[0;31m    if  0 == 0              # Error, faltan ':'\u001b[0m\n\u001b[0m                            ^\u001b[0m\n\u001b[0;31mSyntaxError\u001b[0m\u001b[0;31m:\u001b[0m invalid syntax\n"
     ]
    }
   ],
   "source": [
    "if  0 == 0              # Error, faltan ':' \n",
    "    print('Problem')\n",
    "else: \n",
    "    print('No Problem')"
   ]
  },
  {
   "cell_type": "code",
   "execution_count": 16,
   "metadata": {},
   "outputs": [
    {
     "ename": "SyntaxError",
     "evalue": "invalid syntax (<ipython-input-16-f95bdd1507c0>, line 4)",
     "output_type": "error",
     "traceback": [
      "\u001b[0;36m  File \u001b[0;32m\"<ipython-input-16-f95bdd1507c0>\"\u001b[0;36m, line \u001b[0;32m4\u001b[0m\n\u001b[0;31m    else:                  # Error de Indentacion\u001b[0m\n\u001b[0m    ^\u001b[0m\n\u001b[0;31mSyntaxError\u001b[0m\u001b[0;31m:\u001b[0m invalid syntax\n"
     ]
    }
   ],
   "source": [
    "if 0==1:\n",
    "    print('Problem')\n",
    "    \n",
    "    else:                  # Error de Indentacion\n",
    "        print('No Problem')"
   ]
  },
  {
   "cell_type": "code",
   "execution_count": 35,
   "metadata": {},
   "outputs": [
    {
     "name": "stdout",
     "output_type": "stream",
     "text": [
      "n positivo\n"
     ]
    }
   ],
   "source": [
    "n = int(input(\"Ingrese un numero: \")) # leer(n)\n",
    "\n",
    "if n >= 0: # Si 0 == 1, entonces:\n",
    "    print('n positivo')# No olvidarse de la indentación  0 == 1 Verdadero\n",
    "                # En algunos IDE la indentación es automatica.\n",
    "elif n == 0 :\n",
    "    print(\"n es cero\")\n",
    "else:\n",
    "    print('n negativo')  # 0 == 1 Falso"
   ]
  },
  {
   "cell_type": "code",
   "execution_count": null,
   "metadata": {},
   "outputs": [],
   "source": [
    "# Un ejemplo de como usar multiples instrucciones if.\n",
    "\n",
    "n = int(input(\"Ingrese un número  :  \"))  # Ingresamos el número n\n",
    "\n",
    "if n%7==0:     # El mismo nivel de indentación para el \"if\", \"elif\", y \"else\".\n",
    "    print(n, \"el residuo es 0 modulo 7\")\n",
    "elif n%7==1: \n",
    "    print(n, \"el residuo es 1 modulo 7\")\n",
    "elif n%7==2:\n",
    "    print(n, \"el residuo es 2 modulo 7\")\n",
    "elif n%7==3:\n",
    "    print(n, \"el residuo es 3 modulo 7\")\n",
    "elif n%7==4:\n",
    "    print(n, \"el residuo es 4 modulo 7\")\n",
    "elif n%7==5:\n",
    "    print(n, \"el residuo es 5 modulo 7\")\n",
    "else:\n",
    "    print(n, \"el residuo es 6 modulo 7\")\n",
    "# Manera más corta de obtener el mismo resultado.\n",
    "n=int(input(\"Ingrese un número : \"))\n",
    "print(n,\" is congruent to \",n%7,\"modulo 7\")\n",
    "\n"
   ]
  },
  {
   "cell_type": "code",
   "execution_count": null,
   "metadata": {},
   "outputs": [],
   "source": [
    "# Ejemplo de instrucciones condicionales anidadas.   \n",
    "\n",
    "n = int(input(\"Ingresar un número entre 8 y 49 para testear si es un número primo : \"))\n",
    "\n",
    "isprime=True\n",
    "\n",
    "if n<7 and n > 49:\n",
    "    print(\"Impossible! el número no esta entre 8 y 49.\")\n",
    "#elif n>49:\n",
    "#    print(\"Impossible! el número es demaciado grande.\")\n",
    "else:\n",
    "    if 2*(n//2) == n: # n = 15 ; n//2 = 7 ;  7 * 2 = 14\n",
    "        print(\"No es primo, \", n,\" es divisible por 2.\") # Tenemos tres niveles de indentación. \n",
    "        isprime=False\n",
    "    elif 3*(n//3)==n:\n",
    "        print(\"Not es primo, \", n,\" es divisible por 3.\")\n",
    "        isprime=False\n",
    "    elif 5*(n//5)==n:\n",
    "        print(\"Not es primo, \", n,\" es divisible por 5.\")\n",
    "        isprime=False\n",
    "    elif 7*(n//7)==n:\n",
    "        print(\"Not es primo, \",n,\" es divisible por 7.\")\n",
    "        isprime=False\n",
    "    else:\n",
    "        print(n,\" es primo.\")"
   ]
  },
  {
   "cell_type": "code",
   "execution_count": null,
   "metadata": {},
   "outputs": [],
   "source": [
    "n = int(input(\"Ingresar un número entre 8 y 49 para testear si es un número primo : \"))\n",
    "\n",
    "isprime=True\n",
    "\n",
    "if n<7 :\n",
    "    print(\"Impossible! el número es muy pequeño.\")\n",
    "elif n>49:\n",
    "    print(\"Impossible! el número es demaciado grande.\")\n",
    "else:\n",
    "    if 2*(n//2) == n: # n = 15 ; n//2 = 7 ;  7 * 2 = 14\n",
    "        print(\"No es primo, \", n,\" es divisible por 2.\") # Tenemos tres niveles de indentación. \n",
    "        isprime=False\n",
    "    elif 3*(n//3)==n:\n",
    "        print(\"Not es primo, \", n,\" es divisible por 3.\")\n",
    "        isprime=False\n",
    "    elif 5*(n//5)==n:\n",
    "        print(\"Not es primo, \", n,\" es divisible por 5.\")\n",
    "        isprime=False\n",
    "    elif 7*(n//7)==n:\n",
    "        print(\"Not es primo, \",n,\" es divisible por 7.\")\n",
    "        isprime=False\n",
    "    else:\n",
    "        print(n,\" es primo.\")"
   ]
  },
  {
   "cell_type": "code",
   "execution_count": null,
   "metadata": {},
   "outputs": [],
   "source": [
    "n = int(input(\"Ingresar un número natural entre 8 y 49: \"))\n",
    "\n",
    "defect = 0\n",
    "\n",
    "if n<7 :\n",
    "    print(\"Impossible! el número no esta entre 8 y 49.\")\n",
    "elif n>49:\n",
    "    print(\"Impossible! el número es demaciado grande.\")\n",
    "else:\n",
    "    if 2*(n//2) == n: \n",
    "        print( \"es divisible por 2.\") # Tenemos tres niveles de indentación. \n",
    "        defect += 2\n",
    "    elif 3*(n//3)==n:\n",
    "        print(\" es divisible por 3.\")\n",
    "        defect += 3\n",
    "    elif 5*(n//5)==n:\n",
    "        print(\" es divisible por 5.\")\n",
    "        defect += 5\n",
    "    elif 7*(n//7)==n:\n",
    "        print(\"es divisible por 7.\")\n",
    "        defect += 7\n",
    "    else:\n",
    "        print(\" es defectivo?? \", n > defect )"
   ]
  },
  {
   "attachments": {},
   "cell_type": "markdown",
   "metadata": {},
   "source": [
    "Ejercicio 9\n",
    "\n",
    "Se necesita realizar un programa para asistir a un empleado de un Cine (o Teatro). El empleado esta encargado de enviar a las personas a la sala correcta.\n",
    "\n",
    "Una vez comprada la entrada la audiencia se dirige al empleado, el cual, en base al número que figura en la entrada (3 dígitos) los envía a la sala correspondiente. Si la entrada es par, el empleado los dirige a la Sala 1. Cuando la entrada es impar los dirige a la sala 2.\n",
    "\n",
    "Recientemente, por un error en la impresión de las entradas han salido muchas con el número  000 , en este caso el empleado debe comunicarle al usuario que se dirija a la administraci'on para obtener una nueva entrada."
   ]
  },
  {
   "cell_type": "code",
   "execution_count": null,
   "metadata": {},
   "outputs": [],
   "source": [
    "n = int(input(\"Ingresar el número de su entrada: \"))\n",
    "\n",
    "if n < 0 or n>999 :\n",
    "    print(\"Entrada no valida.\")\n",
    "else:\n",
    "    if n == 0 :\n",
    "        print(\"Por favor consiga otro ticket.\")\n",
    "    elif 2*(n//2) == n: \n",
    "        print( \"Sala 1\") # Tenemos tres niveles de indentación. \n",
    "    else:\n",
    "        print(\"Sala 2\")\n"
   ]
  },
  {
   "cell_type": "code",
   "execution_count": null,
   "metadata": {},
   "outputs": [],
   "source": []
  },
  {
   "cell_type": "code",
   "execution_count": null,
   "metadata": {},
   "outputs": [],
   "source": []
  }
 ],
 "metadata": {
  "anaconda-cloud": {},
  "celltoolbar": "Slideshow",
  "kernelspec": {
   "display_name": "Python 3",
   "language": "python",
   "name": "python3"
  },
  "language_info": {
   "codemirror_mode": {
    "name": "ipython",
    "version": 3
   },
   "file_extension": ".py",
   "mimetype": "text/x-python",
   "name": "python",
   "nbconvert_exporter": "python",
   "pygments_lexer": "ipython3",
   "version": "3.9.6"
  },
  "nbpresent": {
   "slides": {
    "6fd7db55-fcb2-4f93-abe8-3b8b8774e3a1": {
     "id": "6fd7db55-fcb2-4f93-abe8-3b8b8774e3a1",
     "prev": null,
     "regions": {
      "8a501b0f-e9cf-4c6c-8c59-08ef5391405a": {
       "attrs": {
        "height": 0.8,
        "width": 0.8,
        "x": 0.1,
        "y": 0.1
       },
       "content": {
        "cell": "40a7701e-a37f-426c-8fc9-f65b525a98ac",
        "part": "whole"
       },
       "id": "8a501b0f-e9cf-4c6c-8c59-08ef5391405a"
      }
     }
    }
   },
   "themes": {}
  },
  "widgets": {
   "application/vnd.jupyter.widget-state+json": {
    "state": {},
    "version_major": 2,
    "version_minor": 0
   }
  }
 },
 "nbformat": 4,
 "nbformat_minor": 1
}
