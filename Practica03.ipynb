{
 "cells": [
  {
   "attachments": {},
   "cell_type": "markdown",
   "metadata": {},
   "source": [
    "#  Ejercicios - Clase 03 - \n"
   ]
  },
  {
   "attachments": {},
   "cell_type": "markdown",
   "metadata": {},
   "source": [
    "## Ejercicio 1\n",
    "\n",
    "Escribir un programa, que tome como entrada un *string* del usuario, el cuál debe ser impreso por pantalla en orden reverso. El programa también debe imprimir la palabra \"Bingo!\", si el string ingresado es *palíndromo*."
   ]
  },
  {
   "cell_type": "code",
   "execution_count": 5,
   "metadata": {},
   "outputs": [
    {
     "name": "stdout",
     "output_type": "stream",
     "text": [
      "python\n"
     ]
    }
   ],
   "source": [
    "n = input(\"ingrese un nombre...\")\n",
    "rev = n[::-1]\n",
    "if n == rev:\n",
    "    print(\"Bingo!\")\n",
    "else:print(rev)"
   ]
  },
  {
   "attachments": {},
   "cell_type": "markdown",
   "metadata": {},
   "source": [
    "## Ejercicio 2\n",
    "\n",
    "Escribir un algoritmo que muestrre por pantalla las tablas de multiplicacion, desde el 1 hasta el 9.\n"
   ]
  },
  {
   "cell_type": "code",
   "execution_count": 6,
   "metadata": {
    "collapsed": true
   },
   "outputs": [
    {
     "name": "stdout",
     "output_type": "stream",
     "text": [
      "Tabla de multiplicación de:  1\n",
      "1 x 1 = 1\n",
      "1 x 2 = 2\n",
      "1 x 3 = 3\n",
      "1 x 4 = 4\n",
      "1 x 5 = 5\n",
      "1 x 6 = 6\n",
      "1 x 7 = 7\n",
      "1 x 8 = 8\n",
      "1 x 9 = 9\n",
      "1 x 10 = 10\n",
      "Tabla de multiplicación de:  2\n",
      "2 x 1 = 2\n",
      "2 x 2 = 4\n",
      "2 x 3 = 6\n",
      "2 x 4 = 8\n",
      "2 x 5 = 10\n",
      "2 x 6 = 12\n",
      "2 x 7 = 14\n",
      "2 x 8 = 16\n",
      "2 x 9 = 18\n",
      "2 x 10 = 20\n",
      "Tabla de multiplicación de:  3\n",
      "3 x 1 = 3\n",
      "3 x 2 = 6\n",
      "3 x 3 = 9\n",
      "3 x 4 = 12\n",
      "3 x 5 = 15\n",
      "3 x 6 = 18\n",
      "3 x 7 = 21\n",
      "3 x 8 = 24\n",
      "3 x 9 = 27\n",
      "3 x 10 = 30\n",
      "Tabla de multiplicación de:  4\n",
      "4 x 1 = 4\n",
      "4 x 2 = 8\n",
      "4 x 3 = 12\n",
      "4 x 4 = 16\n",
      "4 x 5 = 20\n",
      "4 x 6 = 24\n",
      "4 x 7 = 28\n",
      "4 x 8 = 32\n",
      "4 x 9 = 36\n",
      "4 x 10 = 40\n",
      "Tabla de multiplicación de:  5\n",
      "5 x 1 = 5\n",
      "5 x 2 = 10\n",
      "5 x 3 = 15\n",
      "5 x 4 = 20\n",
      "5 x 5 = 25\n",
      "5 x 6 = 30\n",
      "5 x 7 = 35\n",
      "5 x 8 = 40\n",
      "5 x 9 = 45\n",
      "5 x 10 = 50\n",
      "Tabla de multiplicación de:  6\n",
      "6 x 1 = 6\n",
      "6 x 2 = 12\n",
      "6 x 3 = 18\n",
      "6 x 4 = 24\n",
      "6 x 5 = 30\n",
      "6 x 6 = 36\n",
      "6 x 7 = 42\n",
      "6 x 8 = 48\n",
      "6 x 9 = 54\n",
      "6 x 10 = 60\n",
      "Tabla de multiplicación de:  7\n",
      "7 x 1 = 7\n",
      "7 x 2 = 14\n",
      "7 x 3 = 21\n",
      "7 x 4 = 28\n",
      "7 x 5 = 35\n",
      "7 x 6 = 42\n",
      "7 x 7 = 49\n",
      "7 x 8 = 56\n",
      "7 x 9 = 63\n",
      "7 x 10 = 70\n",
      "Tabla de multiplicación de:  8\n",
      "8 x 1 = 8\n",
      "8 x 2 = 16\n",
      "8 x 3 = 24\n",
      "8 x 4 = 32\n",
      "8 x 5 = 40\n",
      "8 x 6 = 48\n",
      "8 x 7 = 56\n",
      "8 x 8 = 64\n",
      "8 x 9 = 72\n",
      "8 x 10 = 80\n",
      "Tabla de multiplicación de:  9\n",
      "9 x 1 = 9\n",
      "9 x 2 = 18\n",
      "9 x 3 = 27\n",
      "9 x 4 = 36\n",
      "9 x 5 = 45\n",
      "9 x 6 = 54\n",
      "9 x 7 = 63\n",
      "9 x 8 = 72\n",
      "9 x 9 = 81\n",
      "9 x 10 = 90\n"
     ]
    }
   ],
   "source": [
    "for i in range(1,10):\n",
    "    print(\"Tabla de multiplicación de: \", i)\n",
    "    for j in range(1,11):\n",
    "        print(i, \"x\", j, \"=\", i*j)"
   ]
  },
  {
   "attachments": {},
   "cell_type": "markdown",
   "metadata": {},
   "source": [
    "## Ejercicio 3\n",
    "\n",
    "Dado un número de $2n + 1$ cifras, chequear si el mismo es palíndromo (capicúa).\n"
   ]
  },
  {
   "cell_type": "code",
   "execution_count": 11,
   "metadata": {},
   "outputs": [
    {
     "name": "stdout",
     "output_type": "stream",
     "text": [
      "55 El número es palindromo\n"
     ]
    }
   ],
   "source": [
    "num = int(input(\"ingrese un número de 3 cifras\"))\n",
    "temp = num\n",
    "reverseNum = 0\n",
    "\n",
    "while temp > 0:\n",
    "    digit = temp % 10\n",
    "    reverseNum = reverseNum * 10 + digit\n",
    "    temp //= 10\n",
    "if num == reverseNum: print(num,\"El número es palindromo\")\n",
    "else: print(num, \"el número no es palindromo\")"
   ]
  },
  {
   "attachments": {},
   "cell_type": "markdown",
   "metadata": {
    "collapsed": true
   },
   "source": [
    "## Ejercicio 4\n",
    "\n",
    "Diseñar un algoritmo que calcule la media de una serie de números positivos entrados por teclado. El ingreso de un valor igual a cero indicará el final del ingreso de datos.\n"
   ]
  },
  {
   "cell_type": "code",
   "execution_count": 19,
   "metadata": {},
   "outputs": [
    {
     "name": "stdout",
     "output_type": "stream",
     "text": [
      "4.0\n"
     ]
    }
   ],
   "source": [
    "sum = 0\n",
    "cont = 0\n",
    "\n",
    "while True:\n",
    "    num = int(input(\"ingrese nros (0 para finalizar)\"))\n",
    "    if num == 0: break\n",
    "    else:\n",
    "        sum += num\n",
    "        cont += 1\n",
    "media = sum / cont\n",
    "print(media)\n",
    "\n",
    "\n"
   ]
  },
  {
   "attachments": {},
   "cell_type": "markdown",
   "metadata": {
    "collapsed": true
   },
   "source": [
    "## Ejercicio 5\n",
    "\n",
    "Diseñar un algoritmo que calcula e imprime la suma de los números pares comprendidos entre 2 y 100.\n",
    "\n"
   ]
  },
  {
   "cell_type": "code",
   "execution_count": 23,
   "metadata": {},
   "outputs": [
    {
     "name": "stdout",
     "output_type": "stream",
     "text": [
      "2550\n"
     ]
    }
   ],
   "source": [
    "sum = 0\n",
    "for i in range (1, 101):\n",
    "    if i % 2 ==0:\n",
    "        sum += i\n",
    "print(sum)"
   ]
  },
  {
   "attachments": {},
   "cell_type": "markdown",
   "metadata": {
    "collapsed": true
   },
   "source": [
    "## Ejercicio 6\n",
    "\n",
    "Diseñar un algoritmo que dado tres números, determinar si la suma de cualquier pareja de ellos es igual al tercer número. Si se cumple esta condición deberá imprimir la palabra ''iguales'', sino ''distintos''.\n"
   ]
  },
  {
   "cell_type": "code",
   "execution_count": 26,
   "metadata": {},
   "outputs": [
    {
     "name": "stdout",
     "output_type": "stream",
     "text": [
      "distintos\n"
     ]
    }
   ],
   "source": [
    "num1 = int(input(\"ingrese un nro...\"))\n",
    "num2 = int(input(\"ingrese un nro...\"))\n",
    "num3 = int(input(\"ingrese un nro...\"))\n",
    "\n",
    "if num1 + num2 == num3 or num1 + num3 == num2 or num2 + num3 == num1:\n",
    "    print(\"iguales\")\n",
    "else:\n",
    "    print(\"distintos\") "
   ]
  },
  {
   "attachments": {},
   "cell_type": "markdown",
   "metadata": {
    "collapsed": true
   },
   "source": [
    "## Ejercicio 7\n",
    "\n",
    "Diseñar un algoritmo que pida al usuario el ingreso de un horario, expresado en horas, minutos y segundos e indique la diferencia entre el horario ingresado y la hora actual en horas, minutos y segundos.\n"
   ]
  },
  {
   "attachments": {},
   "cell_type": "markdown",
   "metadata": {},
   "source": []
  },
  {
   "attachments": {},
   "cell_type": "markdown",
   "metadata": {
    "collapsed": true
   },
   "source": [
    "## Ejercicio 8\n",
    "\n",
    "Escribir las sentencias condicionales para calcular:\n",
    "\n",
    "- a) $ x =  x - 5 ~ \\textrm{ si } ~a > b $\n",
    "\n",
    "\n",
    "- b)  $ x = \\left\\{\n",
    "        \\begin{array}{l l}\n",
    "             -8 & \\textrm{si} ~a > b\\\\\n",
    "              1  & \\textrm{si} ~a <= b\\\\\n",
    "        \\end{array} \\right.\n",
    "        $\n",
    "\n",
    "        \n",
    "        \n",
    "- c) $  x = \\left\\{\n",
    "         \\begin{array}{l l}\n",
    "            1 & \\textrm{si} ~n > 5\\\\\n",
    "            0  & \\textrm{si} ~n = 5\\\\\n",
    "           -1  & \\textrm{si} ~n < 5\\\\\n",
    "         \\end{array} \\right.\n",
    "       $\n",
    "\n",
    "        \n",
    "        \n",
    "- d)   $ t = \\left\\{\n",
    "           \\begin{array}{l l}\n",
    "                1 & \\textrm{si} ~x > a\\\\\n",
    "                3 & \\textrm{si} ~a <= x <= b ~~~\\textrm{para}~a<b<c\\\\\n",
    "                5  & \\textrm{si} ~b < x <= c\\\\\n",
    "                -4  & \\textrm{si} ~c < x\\\\\n",
    "           \\end{array} \\right.\n",
    "        $\n"
   ]
  },
  {
   "cell_type": "code",
   "execution_count": null,
   "metadata": {},
   "outputs": [],
   "source": [
    "a = int(input(\"ingrese un nro...\"))\n",
    "b = int(input(\"ingrese otro nro...\"))\n",
    "c = int(input(\"ingrese otro nro...\"))\n",
    "if a > b:\n",
    "    x = a - 5\n",
    "\n",
    "if a > b:\n",
    "    x = -8\n",
    "else: x = 1\n",
    "\n",
    "if n > 5: x = 1\n",
    "elif n == 5: x = 0\n",
    "else: x = -1\n",
    "\n",
    "if x > a: t = 1\n",
    "elif a <= x <=b: t = 3\n",
    "elif b < x <= c: t = 5\n",
    "else: t = -4"
   ]
  },
  {
   "attachments": {},
   "cell_type": "markdown",
   "metadata": {},
   "source": [
    "## Ejercicio  9\n",
    "\n",
    "Se necesita realizar un programa para asistir a un empleado de un Cine (o Teatro). El empleado esta encargado de enviar a las personas a la sala correcta. \n",
    "\n",
    "Una vez comprada la entrada la audiencia se dirige al empleado, el cual, en base al número que figura en la entrada (3 dígitos) los envía a la sala correspondiente. \n",
    "Si la entrada es par, el empleado los dirige a la Sala 1. Cuando la entrada es impar los dirige a la sala 2. \n",
    "\n",
    "Recientemente, por un error en la impresión de las entradas han salido muchas con el número $000$, en este caso el empleado debe comunicarle al usuario que se dirija a la administraci\\'on para obtener una nueva entrada.\n"
   ]
  },
  {
   "cell_type": "code",
   "execution_count": 4,
   "metadata": {},
   "outputs": [
    {
     "name": "stdout",
     "output_type": "stream",
     "text": [
      "sala 2\n"
     ]
    }
   ],
   "source": [
    "NumTicket = int(input(\"ingrese el nro de ticket\"))\n",
    "if NumTicket % 2 == 0:\n",
    "    print('Sala 1')\n",
    "else: print('sala 2')"
   ]
  },
  {
   "attachments": {},
   "cell_type": "markdown",
   "metadata": {},
   "source": [
    "## Ejercicio 10\n",
    "\n",
    "Un empleado trabaja en la mesa de entradas de una organización. Le llegan expedientes de otras dependencias, los cuales debera depositar en $10$ buzones distintos dependiendo del \"codigo de expediente\" . \n",
    "\n",
    "Los expedientes están codificados con números de $1$ (uno) dígito. La forma de agrupación es la siguiente: los expedientes $0$ serán depositados en el buzón $A$, los $1$, serán depositados en el buzón $B$, y así sucesivamente hasta el buzón $J$.\n"
   ]
  },
  {
   "cell_type": "code",
   "execution_count": 6,
   "metadata": {},
   "outputs": [
    {
     "name": "stdout",
     "output_type": "stream",
     "text": [
      "ingrese un nro valido\n"
     ]
    }
   ],
   "source": [
    "exp = int(input('Ingrese nro de expediente...'))\n",
    "\n",
    "if exp == 0: print(\"depositar en buzón A\")\n",
    "elif exp == 1: print(\"depositar en buzón B\")\n",
    "elif exp == 2: print(\"depositar en buzón C\")\n",
    "elif exp == 3: print(\"depositar en buzón D\")\n",
    "elif exp == 4: print(\"depositar en buzón E\")\n",
    "elif exp == 5: print(\"depositar en buzón F\")\n",
    "elif exp == 6: print(\"depositar en buzón G\")\n",
    "elif exp == 7: print(\"depositar en buzón H\")\n",
    "elif exp == 8: print(\"depositar en buzón I\")\n",
    "elif exp == 9: print(\"depositar en buzón J\")\n",
    "elif exp == 10: print(\"depositar en buzón K\")\n",
    "else: print(\"ingrese un nro valido\")"
   ]
  },
  {
   "attachments": {},
   "cell_type": "markdown",
   "metadata": {
    "collapsed": true
   },
   "source": [
    "## Ejercicio 11\n",
    "\n",
    "Diseñar un algoritmo que pida el total de kilometros recorridos, el precio de la gasolina (por litro), el dinero de gasolina gastado en el viaje y el tiempo que se ha tardado (en horas y minutos) y que calcule:\n",
    "\n",
    "- a)    Consumo de gasolina (en litros y pesos) por cada 100 km.\n",
    "\n",
    "- b)    Consumo de gasolina (en litros y pesos) por cada km.\n",
    "    \n",
    "- c)    Velocidad media (en km/h y m/s).\n",
    "   "
   ]
  },
  {
   "cell_type": "code",
   "execution_count": 6,
   "metadata": {},
   "outputs": [
    {
     "name": "stdout",
     "output_type": "stream",
     "text": [
      "El consumo de la gasolina por cada 100km es: 10.00 litros, 100.00 pesos\n",
      "El consumo de la gasolina por cada km es: 0.10 litros, 1.00 pesos\n",
      "La velocidad media: 100.00 km/H, 27.78M/s\n"
     ]
    }
   ],
   "source": [
    "kmTrav = int(input(\"Ingrese km recorridos\"))\n",
    "oilPrice = int(input('Ingrese el precio de la gasolina por litro'))\n",
    "travPrice = int(input('Ingrese el dinero gastado en gasolina'))\n",
    "tempHour = int(input('ingrese el tiempo tardado hasta llegar al destino en horas'))\n",
    "tempMinutes = int(input('ingrese el tiempo tardado hasta llegar al destino en minutos'))\n",
    "\n",
    "#calculamos consumo y precio de gasolina por cada 100km\n",
    "consumOil100 = (travPrice/oilPrice) / (kmTrav / 100)\n",
    "consumprice100 = travPrice / (kmTrav / 100)\n",
    "\n",
    "#Calculamos consumo y el precio de la gasolina por km\n",
    "consumOilKm = (travPrice/oilPrice) / kmTrav\n",
    "consumPriceKm = travPrice / kmTrav\n",
    "\n",
    "#calculamos velocidad media en km/h y m/s\n",
    "tiempoTotal = tempHour + tempMinutes / 60\n",
    "velMediaKmh = kmTrav / tiempoTotal\n",
    "velMediaMs = velMediaKmh / 3.6\n",
    "\n",
    "print(\"El consumo de la gasolina por cada 100km es: {:.2f} litros, {:.2f} pesos\".format(consumOil100,consumprice100))\n",
    "print(\"El consumo de la gasolina por cada km es: {:.2f} litros, {:.2f} pesos\".format(consumOilKm,consumPriceKm))\n",
    "print(\"La velocidad media: {:.2f} km/H, {:.2f}M/s\" .format(velMediaKmh,velMediaMs))\n"
   ]
  },
  {
   "attachments": {},
   "cell_type": "markdown",
   "metadata": {
    "collapsed": true
   },
   "source": [
    "## Ejercicio 12\n",
    "\n",
    "Escribir los algoritmos que permiten generar las siguientes salidas. \n",
    "\n",
    "**Nota:** en la siguiente salida el carácter '\\_' es un espacio en blanco.\n",
    "\n",
    "<img src=\"https://drive.google.com/uc?id=13aValu7WUP8KYvC9J4CkSeRtOklvGt3b\" />\n"
   ]
  },
  {
   "cell_type": "code",
   "execution_count": 23,
   "metadata": {},
   "outputs": [
    {
     "name": "stdout",
     "output_type": "stream",
     "text": [
      "*****\n",
      "*****\n",
      "*****\n",
      "*****\n",
      "*****\n",
      "-*\n",
      "--*\n",
      "---*\n",
      "----*\n",
      "-----*\n",
      "----*----\n",
      "---***---\n",
      "--*****--\n",
      "-*******-\n",
      "----*----\n"
     ]
    }
   ],
   "source": [
    "for i in range(5):\n",
    "    for j in range(5):\n",
    "        if j < 4 : print(\"*\", end = \"\")\n",
    "        else: print(\"*\", end= \"\\n\")\n",
    "\n",
    "for x in range(1,6):\n",
    "    for z in range(x):\n",
    "        print(\"-\", end=\"\")\n",
    "    print(\"*\", end= \"\\n\")\n",
    "\n",
    "for l in range(4):\n",
    "    for k in range(9):\n",
    "        if k < 4 - l or k > 4 + l:\n",
    "            print(\"-\", end = \"\")\n",
    "        else: print(\"*\", end = \"\")\n",
    "    print()\n",
    "for m in range(1):\n",
    "    for n in range(9):\n",
    "        if n < 4 - m or n > 4 + m:\n",
    "            print(\"-\", end = \"\")\n",
    "        else: print(\"*\", end = \"\")\n",
    "    print()"
   ]
  },
  {
   "attachments": {},
   "cell_type": "markdown",
   "metadata": {},
   "source": [
    "## Ejercicio 13\n",
    "\n",
    "Desarrollar un algoritmo el cual dado un conjunto de números enteros, escribir aquellos que sean divisibles por $I$.\n"
   ]
  },
  {
   "cell_type": "code",
   "execution_count": 29,
   "metadata": {},
   "outputs": [
    {
     "name": "stdout",
     "output_type": "stream",
     "text": [
      "5\n",
      "10\n",
      "15\n",
      "20\n"
     ]
    }
   ],
   "source": [
    "num = [1, 2, 3, 4, 5, 6, 7, 8, 9, 10, 11, 12, 13, 14, 15, 16, 17, 18, 19, 20]\n",
    "i = 5\n",
    "\n",
    "for x in num:\n",
    "    if x % i == 0: \n",
    "        print(x)"
   ]
  },
  {
   "attachments": {},
   "cell_type": "markdown",
   "metadata": {},
   "source": [
    "## Ejercicio 14 \n",
    "\n",
    "Desarrolle un programa que se le ingrese una cierta cantidad de dinero (en pesos y entera) y devuelva la menor cantidad de billetes de 100, 50, 20, 10, 5, 2 y monedas de 1 posibles.\n"
   ]
  },
  {
   "cell_type": "code",
   "execution_count": 37,
   "metadata": {},
   "outputs": [
    {
     "name": "stdout",
     "output_type": "stream",
     "text": [
      "Billetes de 100: 145\n",
      "Billete de 50: 0\n",
      "Billete de 20: 0\n",
      "Billete de 10: 1\n",
      "Billete de 5: 0\n",
      "Billete de 2: 1\n",
      "Billete de 1: 0\n"
     ]
    }
   ],
   "source": [
    "dinero = int(input(\"ingrese cantidad de dinero...\"))\n",
    "\n",
    "cien = dinero // 100\n",
    "dinero = dinero % 100\n",
    "cincuenta = dinero // 50\n",
    "dinero = dinero % 50\n",
    "veinte = dinero // 20\n",
    "dinero = dinero %  20\n",
    "diez = dinero // 10\n",
    "dinero = dinero % 10\n",
    "cinco = dinero // 5\n",
    "dinero = dinero % 5\n",
    "dos = dinero // 2\n",
    "dinero = dinero % 2\n",
    "uno = dinero // 1\n",
    "dinero = dinero % 1\n",
    "\n",
    "print(\"Billetes de 100:\", cien)\n",
    "print(\"Billete de 50:\", cincuenta)\n",
    "print(\"Billete de 20:\", veinte)\n",
    "print(\"Billete de 10:\", diez)\n",
    "print(\"Billete de 5:\", cinco)\n",
    "print(\"Billete de 2:\", dos)\n",
    "print(\"Billete de 1:\", uno)\n"
   ]
  },
  {
   "attachments": {},
   "cell_type": "markdown",
   "metadata": {},
   "source": [
    "## Ejercicio 15\n",
    "\n",
    "Desarrollar un programa que convierta una cantidad entera de segundos al formato \"HORAS:MINUTOS:SEGUNDOS\".\n"
   ]
  },
  {
   "cell_type": "code",
   "execution_count": 42,
   "metadata": {},
   "outputs": [
    {
     "name": "stdout",
     "output_type": "stream",
     "text": [
      "La hora ingresada es: 1:16:40\n"
     ]
    }
   ],
   "source": [
    "segundos = int(input(\"Ingrese los segundos\"))\n",
    "\n",
    "hora = int(segundos // 3600)\n",
    "segundos = int(segundos % 3600)\n",
    "\n",
    "minutos = segundos // 60\n",
    "segundos = segundos % 60\n",
    "\n",
    "print(\"La hora ingresada es:{:2d}:{:2d}:{:2d}\".format(hora,minutos,segundos))"
   ]
  },
  {
   "attachments": {},
   "cell_type": "markdown",
   "metadata": {},
   "source": [
    "## Ejercicio 16\n",
    "\n",
    "Desarrollar un programa que pida ingresar un número entero por teclado estrictamente mayor a 1 y devuelva su mayor divisor que sea distinto de el.\n",
    "    "
   ]
  },
  {
   "cell_type": "code",
   "execution_count": 56,
   "metadata": {},
   "outputs": [
    {
     "name": "stdout",
     "output_type": "stream",
     "text": [
      "El mayor divisor de: 46 es: 23\n"
     ]
    }
   ],
   "source": [
    "n = int(input(\"Ingrese un nro...\"))\n",
    "mayorDivi = 1\n",
    "\n",
    "for i in range(2,n):\n",
    "    if n % i == 0:\n",
    "        mayorDivi = i\n",
    "if mayorDivi == 1:\n",
    "    print(\"El nro ingresado no tiene divisores distinto a él mismo\")\n",
    "else: print(\"El mayor divisor de:\", n, \"es:\",mayorDivi)"
   ]
  },
  {
   "attachments": {},
   "cell_type": "markdown",
   "metadata": {},
   "source": [
    "## Ejercicio 17\n",
    "\n",
    "Desarrollar un programa que pida ingresar un número entero por teclado estrictamente mayor a 1 y devuelva todos los divisores de ese número.\n",
    "    "
   ]
  },
  {
   "cell_type": "code",
   "execution_count": 77,
   "metadata": {},
   "outputs": [
    {
     "name": "stdout",
     "output_type": "stream",
     "text": [
      "Todos los números divisores de: 21 son:\n",
      "1\n",
      "3\n",
      "7\n",
      "21\n"
     ]
    }
   ],
   "source": [
    "n = int(input(\"Ingrese un nro...\"))\n",
    "\n",
    "print(\"Todos los números divisores de:\", n,\"son:\")\n",
    "for i in range(1,n+1):\n",
    "    if n % i ==0:\n",
    "        print(i)"
   ]
  },
  {
   "attachments": {},
   "cell_type": "markdown",
   "metadata": {},
   "source": [
    "## Ejercicio 18\n",
    "\n",
    "Desarrolle un programa que permita saber si un número ingresado por teclado es par (positivo y negativo) o impar (positivo y negativo).\n"
   ]
  },
  {
   "cell_type": "code",
   "execution_count": 69,
   "metadata": {},
   "outputs": [
    {
     "name": "stdout",
     "output_type": "stream",
     "text": [
      "El número ingraso es: 6 es un número par positivo\n"
     ]
    }
   ],
   "source": [
    "n = int(input(\"ingrese un nro...\"))\n",
    "\n",
    "if n % 2 == 0:\n",
    "    if n > 0:\n",
    "        print(\"El número ingraso es:\",n, \"es un número par positivo\")\n",
    "    else: print(\"El número ingraso es:\",n, \",es un número par negativo\")\n",
    "elif n >0:\n",
    "    print(\"El número ingraso es:\",n, \"es un número impar positivo\")\n",
    "else: print(\"El número ingraso es:\",n, \"es un número impar negativo\")"
   ]
  },
  {
   "attachments": {},
   "cell_type": "markdown",
   "metadata": {},
   "source": [
    "## Ejercicio 19\n",
    "\n",
    "Desarrollar un algoritmo que diga si un número ingresado es abundante.\n",
    "\n",
    "**Nota:** usar Google o Wikipedia para saber que es un número abundante.\n"
   ]
  },
  {
   "cell_type": "code",
   "execution_count": 5,
   "metadata": {},
   "outputs": [
    {
     "name": "stdout",
     "output_type": "stream",
     "text": [
      "El nro ingresado es abundante\n"
     ]
    }
   ],
   "source": [
    "n = int(input(\"Ingrese un nro...\"))\n",
    "divisores=[]\n",
    "\n",
    "for i in range(1,n):\n",
    "    if n % i == 0:\n",
    "        divisores.append(i)\n",
    "\n",
    "if sum(divisores) > n:\n",
    "    print(\"El nro ingresado es abundante\")\n",
    "else: print(\"El nro ingresado no es abundante\")\n"
   ]
  },
  {
   "attachments": {},
   "cell_type": "markdown",
   "metadata": {},
   "source": [
    "## Ejercicio 20\n",
    "\n",
    "Ídem anterior, pero para un conjunto de números de entrada. El algoritmo para cuando el número ingresado es igual a 0.\n"
   ]
  },
  {
   "cell_type": "code",
   "execution_count": 15,
   "metadata": {},
   "outputs": [
    {
     "name": "stdout",
     "output_type": "stream",
     "text": [
      "21 No es abundante\n",
      "18 Es abundante\n",
      "21 No es abundante\n"
     ]
    }
   ],
   "source": [
    "\n",
    "while True:\n",
    "    divisores = []\n",
    "    n = int(input(\"Ingrese un nro...\"))\n",
    "    if n == 0:\n",
    "        break\n",
    "    else:\n",
    "        for i in range(1,n):\n",
    "            if n % i == 0:\n",
    "                divisores.append(i)\n",
    "        if sum(divisores) > n:\n",
    "            print(n,\"Es abundante\")\n",
    "        else: print(n,\"No es abundante\")"
   ]
  },
  {
   "attachments": {},
   "cell_type": "markdown",
   "metadata": {},
   "source": [
    "## Ejercicio 21\n",
    "\n",
    "  Desarrollar un algoritmo para, dado un número natural, determinar si es defectivo.\n",
    "  \n",
    "  **Nota:** usar Google o Wikipedia para saber que es un n\\'umero defectivo."
   ]
  },
  {
   "cell_type": "code",
   "execution_count": 19,
   "metadata": {},
   "outputs": [
    {
     "name": "stdout",
     "output_type": "stream",
     "text": [
      "21 Es un nro defectivo\n"
     ]
    }
   ],
   "source": [
    "n = int(input(\"ingrese un nro natural..\"))\n",
    "divisores = []\n",
    "\n",
    "for i in range(1,n):\n",
    "    if n % i == 0:\n",
    "        divisores.append(i)\n",
    "\n",
    "if sum(divisores) < n:\n",
    "    print(n,\"Es un nro defectivo\")\n",
    "else:print(n, \"Es un nro abundante\")"
   ]
  },
  {
   "attachments": {},
   "cell_type": "markdown",
   "metadata": {},
   "source": [
    "## Ejercicio 22\n",
    "\n",
    "Desarrollar un algoritmo para encontrar los números perfectos entre 1 y $N$."
   ]
  },
  {
   "cell_type": "code",
   "execution_count": 21,
   "metadata": {},
   "outputs": [
    {
     "name": "stdout",
     "output_type": "stream",
     "text": [
      "7 no es un nro perfecto\n"
     ]
    }
   ],
   "source": [
    "n = int(input(\"Ingrese un neo...\"))\n",
    "divisores = []\n",
    "\n",
    "for i in range(1,n):\n",
    "    if n % i == 0:\n",
    "        divisores.append(i)\n",
    "\n",
    "if sum(divisores)== n:\n",
    "    print(n,\"es un nro perfecto\")\n",
    "else: print(n,\"no es un nro perfecto\")"
   ]
  }
 ],
 "metadata": {
  "kernelspec": {
   "display_name": "Python 3",
   "language": "python",
   "name": "python3"
  },
  "language_info": {
   "codemirror_mode": {
    "name": "ipython",
    "version": 3
   },
   "file_extension": ".py",
   "mimetype": "text/x-python",
   "name": "python",
   "nbconvert_exporter": "python",
   "pygments_lexer": "ipython3",
   "version": "3.9.6"
  }
 },
 "nbformat": 4,
 "nbformat_minor": 2
}
